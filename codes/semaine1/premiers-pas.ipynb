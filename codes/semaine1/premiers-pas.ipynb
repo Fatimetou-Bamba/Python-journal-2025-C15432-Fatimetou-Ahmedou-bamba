{
 "cells": [
  {
   "cell_type": "code",
   "execution_count": 1,
   "id": "1ec19f27-5ad7-4e88-9cc0-caf13d37cb0b",
   "metadata": {},
   "outputs": [
    {
     "name": "stdout",
     "output_type": "stream",
     "text": [
      "Bonjour, je m'appelle Ftimetou Ahmedou Bamba\n"
     ]
    }
   ],
   "source": [
    "# Exercice 1 : Afficher votre nom\n",
    "print(\"Bonjour, je m'appelle Ftimetou Ahmedou Bamba\")"
   ]
  },
  {
   "cell_type": "code",
   "execution_count": 2,
   "id": "84edf3c9-7f1f-448f-976b-56c8bdf08703",
   "metadata": {},
   "outputs": [
    {
     "name": "stdout",
     "output_type": "stream",
     "text": [
      "a + b = 7\n"
     ]
    }
   ],
   "source": [
    "# Exercice 2 : Effectuer quelques calculs\n",
    "a = 5\n",
    "b = 2\n",
    "print(\"a + b =\", a + b)"
   ]
  },
  {
   "cell_type": "code",
   "execution_count": 3,
   "id": "787c12b7-4cee-4943-976b-5b08f131a647",
   "metadata": {},
   "outputs": [
    {
     "name": "stdout",
     "output_type": "stream",
     "text": [
      "2\n",
      "4\n",
      "6\n",
      "8\n"
     ]
    }
   ],
   "source": [
    "# Exercice 3 : Travailler avec une liste\n",
    "nombres = [1, 2, 3, 4]\n",
    "for n in nombres:\n",
    "    print(n * 2)"
   ]
  },
  {
   "cell_type": "code",
   "execution_count": null,
   "id": "779eaded-71ed-411f-bd61-0ddc0e0048ff",
   "metadata": {},
   "outputs": [],
   "source": []
  }
 ],
 "metadata": {
  "kernelspec": {
   "display_name": "Python 3 (ipykernel)",
   "language": "python",
   "name": "python3"
  },
  "language_info": {
   "codemirror_mode": {
    "name": "ipython",
    "version": 3
   },
   "file_extension": ".py",
   "mimetype": "text/x-python",
   "name": "python",
   "nbconvert_exporter": "python",
   "pygments_lexer": "ipython3",
   "version": "3.13.5"
  }
 },
 "nbformat": 4,
 "nbformat_minor": 5
}
